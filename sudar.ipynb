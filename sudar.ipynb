{
  "nbformat": 4,
  "nbformat_minor": 0,
  "metadata": {
    "colab": {
      "name": "sudar.ipynb",
      "provenance": [],
      "collapsed_sections": []
    },
    "kernelspec": {
      "name": "python3",
      "display_name": "Python 3"
    },
    "language_info": {
      "name": "python"
    }
  },
  "cells": [
    {
      "cell_type": "code",
      "metadata": {
        "colab": {
          "base_uri": "https://localhost:8080/"
        },
        "id": "i0r4TAwwibsT",
        "outputId": "cf351554-8e0d-4a94-855b-3ee30de27ea1"
      },
      "source": [
        "import nltk\n",
        "nltk.download('stopwords')"
      ],
      "execution_count": null,
      "outputs": [
        {
          "output_type": "stream",
          "text": [
            "[nltk_data] Downloading package stopwords to /root/nltk_data...\n",
            "[nltk_data]   Package stopwords is already up-to-date!\n"
          ],
          "name": "stdout"
        },
        {
          "output_type": "execute_result",
          "data": {
            "text/plain": [
              "True"
            ]
          },
          "metadata": {},
          "execution_count": 14
        }
      ]
    },
    {
      "cell_type": "code",
      "metadata": {
        "colab": {
          "base_uri": "https://localhost:8080/"
        },
        "id": "AWyYt69tknVb",
        "outputId": "783caba1-9ec7-4694-d538-6294edc03219"
      },
      "source": [
        "import nltk\n",
        "nltk.download('wordnet')"
      ],
      "execution_count": null,
      "outputs": [
        {
          "output_type": "stream",
          "text": [
            "[nltk_data] Downloading package wordnet to /root/nltk_data...\n",
            "[nltk_data]   Package wordnet is already up-to-date!\n"
          ],
          "name": "stdout"
        },
        {
          "output_type": "execute_result",
          "data": {
            "text/plain": [
              "True"
            ]
          },
          "metadata": {},
          "execution_count": 15
        }
      ]
    },
    {
      "cell_type": "code",
      "metadata": {
        "id": "Jn-sXGSTick2"
      },
      "source": [
        "import pandas as pd\n",
        "import nltk\n",
        "import re\n",
        "from nltk.stem.porter import PorterStemmer \n",
        "from nltk.stem import WordNetLemmatizer\n",
        "#nltk.download('stopwords')\n",
        "from nltk.corpus import stopwords \n",
        "mail = pd.read_csv('/content/SMSSpamCollection', sep='\\t',\n",
        "                           names=[\"label\", \"message\"])\n",
        "\n",
        "\n",
        "# the above note pad is 2 parts 1st column represent the lable spam or ham \n",
        "# then the dependent var and independent var is is sepereated by one tab so /t\n",
        "\n",
        "#and there is no column name so im forcingly specifying 2 heading . 1st is lable and 2nd is message\n",
        "\n",
        "# now data cleaning and pre processssssssssngs\n",
        "\n",
        "\n",
        "\n",
        "\n",
        "    \n",
        "\n"
      ],
      "execution_count": null,
      "outputs": []
    },
    {
      "cell_type": "code",
      "metadata": {
        "colab": {
          "base_uri": "https://localhost:8080/",
          "height": 204
        },
        "id": "eksLJJrEmJ7K",
        "outputId": "86cb2bab-43ea-4135-88ce-0174d0261b78"
      },
      "source": [
        "mail.head(5)"
      ],
      "execution_count": null,
      "outputs": [
        {
          "output_type": "execute_result",
          "data": {
            "text/html": [
              "<div>\n",
              "<style scoped>\n",
              "    .dataframe tbody tr th:only-of-type {\n",
              "        vertical-align: middle;\n",
              "    }\n",
              "\n",
              "    .dataframe tbody tr th {\n",
              "        vertical-align: top;\n",
              "    }\n",
              "\n",
              "    .dataframe thead th {\n",
              "        text-align: right;\n",
              "    }\n",
              "</style>\n",
              "<table border=\"1\" class=\"dataframe\">\n",
              "  <thead>\n",
              "    <tr style=\"text-align: right;\">\n",
              "      <th></th>\n",
              "      <th>label</th>\n",
              "      <th>message</th>\n",
              "    </tr>\n",
              "  </thead>\n",
              "  <tbody>\n",
              "    <tr>\n",
              "      <th>0</th>\n",
              "      <td>ham</td>\n",
              "      <td>Go until jurong point, crazy.. Available only ...</td>\n",
              "    </tr>\n",
              "    <tr>\n",
              "      <th>1</th>\n",
              "      <td>ham</td>\n",
              "      <td>Ok lar... Joking wif u oni...</td>\n",
              "    </tr>\n",
              "    <tr>\n",
              "      <th>2</th>\n",
              "      <td>spam</td>\n",
              "      <td>Free entry in 2 a wkly comp to win FA Cup fina...</td>\n",
              "    </tr>\n",
              "    <tr>\n",
              "      <th>3</th>\n",
              "      <td>ham</td>\n",
              "      <td>U dun say so early hor... U c already then say...</td>\n",
              "    </tr>\n",
              "    <tr>\n",
              "      <th>4</th>\n",
              "      <td>ham</td>\n",
              "      <td>Nah I don't think he goes to usf, he lives aro...</td>\n",
              "    </tr>\n",
              "  </tbody>\n",
              "</table>\n",
              "</div>"
            ],
            "text/plain": [
              "  label                                            message\n",
              "0   ham  Go until jurong point, crazy.. Available only ...\n",
              "1   ham                      Ok lar... Joking wif u oni...\n",
              "2  spam  Free entry in 2 a wkly comp to win FA Cup fina...\n",
              "3   ham  U dun say so early hor... U c already then say...\n",
              "4   ham  Nah I don't think he goes to usf, he lives aro..."
            ]
          },
          "metadata": {},
          "execution_count": 29
        }
      ]
    },
    {
      "cell_type": "code",
      "metadata": {
        "id": "SLWaSCpxmDiv"
      },
      "source": [
        "\n",
        "ps=PorterStemmer()# stemming purpose \n",
        "lem=WordNetLemmatizer()\n",
        "corpus=[]\n",
        "\n",
        "for i in range(0,len(mail)):\n",
        "    \n",
        "    review = re.sub('[^a-zA-z]',' ',mail['message'][i])# space is given in 2nd parameter of sub \n",
        "    review=review.lower()\n",
        "    review=review.split()\n",
        "    \n",
        "    review=[lem.lemmatize(word) for word in review if not word in stopwords.words('english')]\n",
        "    \n",
        "    review=' '.join(review) # words int o sentence \n",
        "    corpus.append(review)\n",
        "    "
      ],
      "execution_count": null,
      "outputs": []
    },
    {
      "cell_type": "code",
      "metadata": {
        "id": "mlxYRVtsj4O9"
      },
      "source": [
        "\n",
        "#when i use CountVectorizer bag of words  , i get accuracy of 0.9850478468899522\n",
        "from sklearn.feature_extraction.text import CountVectorizer\n",
        "cv=CountVectorizer(max_features=5000)# here the max_feature will take top 5k most important word  up to 5000 words \n",
        "x=cv.fit_transform(corpus).toarray()# this is the date that we will be training \n",
        "\n",
        "# we have target var as ham and spam so we gonna make it mumentrical as 1 for spam and 0 for ham \n",
        "\n",
        "y=pd.get_dummies(mail['label'])\n",
        "\n",
        "# here this y cnsisit of 1 as ham and 0 as spam , and it has 2 columns differently so we re going to make it one column \n",
        "y=y.iloc[:,1].values  # now 0 means its ham and 1 means it spam \n",
        "\n",
        "from sklearn.model_selection import train_test_split \n",
        "x_train,x_test,y_train,y_test=train_test_split(x,y,test_size=0.3,random_state=0)\n"
      ],
      "execution_count": null,
      "outputs": []
    },
    {
      "cell_type": "code",
      "metadata": {
        "colab": {
          "base_uri": "https://localhost:8080/",
          "height": 343
        },
        "id": "N_4xLkRHkEv-",
        "outputId": "3f8595f4-4901-4002-a3ed-2fb87fd4d727"
      },
      "source": [
        "\n",
        "\n",
        "#=================================================================\n",
        "# using naves bayes 0.9850478468899522\n",
        "\n",
        "from sklearn.naive_bayes import MultinomialNB\n",
        "spam_detect=MultinomialNB()\n",
        "train=spam_detect.fit(x_train,y_train)\n",
        "y_pred=spam_detect.predict(x_test)\n",
        "from sklearn.metrics import accuracy_score\n",
        "acc=accuracy_score(y_test,y_pred)\n",
        "\n",
        "from sklearn.metrics import confusion_matrix\n",
        "cm=confusion_matrix(y_test,y_pred)\n",
        "\n",
        "\n",
        "print(\"Using Naive Bayes model  Accuracy is\",acc)\n",
        "\n",
        "import matplotlib.pyplot as plt \n",
        "import seaborn as sns \n",
        "\n",
        "plt.figure(figsize=(5,5))\n",
        "sns.heatmap(cm,annot=True,fmt=\".2f\",linewidths=.10,square=True,cmap='Blues_r')\n",
        "plt.ylabel(\"ACTUAL VALUE OR LABEL\")\n",
        "plt.xlabel(\" PREDICTED VALUE OR LABEL\")\n",
        "all_sample_title=\"ACCURACY SCORE {0}\".format(acc)\n",
        "plt.title(all_sample_title,size=15)"
      ],
      "execution_count": null,
      "outputs": [
        {
          "output_type": "stream",
          "text": [
            "Using Naive Bayes model  Accuracy is 0.9850478468899522\n"
          ],
          "name": "stdout"
        },
        {
          "output_type": "execute_result",
          "data": {
            "text/plain": [
              "Text(0.5, 1.0, 'ACCURACY SCORE 0.9850478468899522')"
            ]
          },
          "metadata": {},
          "execution_count": 23
        },
        {
          "output_type": "display_data",
          "data": {
            "image/png": "[encoded data removed]",
            "text/plain": [
              "<Figure size 360x360 with 2 Axes>"
            ]
          },
          "metadata": {
            "needs_background": "light"
          }
        }
      ]
    },
    {
      "cell_type": "code",
      "metadata": {
        "colab": {
          "base_uri": "https://localhost:8080/",
          "height": 343
        },
        "id": "uL6L0SdLkP_r",
        "outputId": "4588b6b0-5bd6-4bb0-aca1-3d69567658a7"
      },
      "source": [
        "# =================================================================\n",
        "# using nLogisticRegression  i get accuracy 0.9820574162679426\n",
        "from sklearn.linear_model import LogisticRegression\n",
        "lrg=LogisticRegression()\n",
        "lrg.fit(x_train,y_train)\n",
        "y_pred=lrg.predict(x_test)\n",
        "\n",
        "from sklearn.metrics import accuracy_score\n",
        "acc=accuracy_score(y_test,y_pred)\n",
        "\n",
        "from sklearn.metrics import confusion_matrix\n",
        "cm=confusion_matrix(y_test,y_pred)\n",
        "\n",
        "\n",
        "print(\"Using nLogisticRegression  Accuracy is\",acc)\n",
        "#=================================================================\n",
        "\n",
        "import matplotlib.pyplot as plt \n",
        "import seaborn as sns \n",
        "\n",
        "plt.figure(figsize=(5,5))\n",
        "sns.heatmap(cm,annot=True,fmt=\".2f\",linewidths=.10,square=True,cmap='Blues_r')\n",
        "plt.ylabel(\"ACTUAL VALUE OR LABEL\")\n",
        "plt.xlabel(\" PREDICTED VALUE OR LABEL\")\n",
        "all_sample_title=\"ACCURACY SCORE {0}\".format(acc)\n",
        "plt.title(all_sample_title,size=15)"
      ],
      "execution_count": null,
      "outputs": [
        {
          "output_type": "stream",
          "text": [
            "Using nLogisticRegression  Accuracy is 0.9814593301435407\n"
          ],
          "name": "stdout"
        },
        {
          "output_type": "execute_result",
          "data": {
            "text/plain": [
              "Text(0.5, 1.0, 'ACCURACY SCORE 0.9814593301435407')"
            ]
          },
          "metadata": {},
          "execution_count": 24
        },
        {
          "output_type": "display_data",
          "data": {
            "image/png": "[encoded data removed]",
            "text/plain": [
              "<Figure size 360x360 with 2 Axes>"
            ]
          },
          "metadata": {
            "needs_background": "light"
          }
        }
      ]
    },
    {
      "cell_type": "code",
      "metadata": {
        "colab": {
          "base_uri": "https://localhost:8080/",
          "height": 347
        },
        "id": "tAcAr9C2kadl",
        "outputId": "5db77b19-e3d1-43c2-a187-d4a3261f17a5"
      },
      "source": [
        "\n",
        "# using DecisionTreeClassifier  i get accuracy 0.9360047846889952\n",
        "from sklearn.tree import DecisionTreeClassifier\n",
        "clf_entropy=DecisionTreeClassifier(criterion=\"entropy\",random_state=100,max_depth=3,min_samples_leaf=5)\n",
        "clf_entropy.fit(x_train,y_train)\n",
        "y_pred=clf_entropy.predict(x_test)\n",
        "\n",
        "from sklearn.metrics import confusion_matrix\n",
        "cm=confusion_matrix(y_test,y_pred)\n",
        "\n",
        "\n",
        "from sklearn.metrics import accuracy_score\n",
        "acc=accuracy_score(y_test,y_pred)\n",
        "\n",
        "print(\"Using DecisionTreeClassifier model Accuracy is \",acc)\n",
        "\n",
        "import matplotlib.pyplot as plt \n",
        "import seaborn as sns \n",
        "\n",
        "plt.figure(figsize=(5,5))\n",
        "sns.heatmap(cm,annot=True,fmt=\".2f\",linewidths=.10,square=True,cmap='Blues_r')\n",
        "plt.ylabel(\"ACTUAL VALUE OR LABEL\")\n",
        "plt.xlabel(\" PREDICTED VALUE OR LABEL\")\n",
        "all_sample_title=\"ACCURACY SCORE {0}\".format(acc)\n",
        "plt.title(all_sample_title,size=15)\n"
      ],
      "execution_count": null,
      "outputs": [
        {
          "output_type": "stream",
          "text": [
            "Using DecisionTreeClassifier model Accuracy is  0.9360047846889952\n"
          ],
          "name": "stdout"
        },
        {
          "output_type": "execute_result",
          "data": {
            "text/plain": [
              "Text(0.5, 1.0, 'ACCURACY SCORE 0.9360047846889952')"
            ]
          },
          "metadata": {},
          "execution_count": 25
        },
        {
          "output_type": "display_data",
          "data": {
            "image/png": "[encoded data removed]",
            "text/plain": [
              "<Figure size 360x360 with 2 Axes>"
            ]
          },
          "metadata": {
            "needs_background": "light"
          }
        }
      ]
    },
    {
      "cell_type": "code",
      "metadata": {
        "id": "aJ8CzU2gk8Hg"
      },
      "source": [
        ""
      ],
      "execution_count": null,
      "outputs": []
    }
  ]
}